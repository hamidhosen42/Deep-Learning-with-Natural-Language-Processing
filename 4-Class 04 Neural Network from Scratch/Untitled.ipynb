{
 "cells": [
  {
   "cell_type": "code",
   "execution_count": 1,
   "id": "3596978b",
   "metadata": {},
   "outputs": [],
   "source": [
    "# 1. Input Layer - CNN(Convolutional Neural Network) / Dense Layer / Convuled Layer\n",
    "#     1. ReLU layer\n",
    "#     2. Poling Layer\n",
    "#     3. Upsampling\n",
    "    \n",
    "#         1. batcNormalization\n",
    "#         2. Dropout Layer\n",
    "\n",
    "# 2. Hidden Layer - NN(neural networks)\n",
    "# 3. Output Layer - FCNN(Fully connected neural networks)"
   ]
  },
  {
   "cell_type": "code",
   "execution_count": 2,
   "id": "bf4c08eb",
   "metadata": {},
   "outputs": [],
   "source": [
    "# 1. Tensorflow\n",
    "# 2. Pytroch\n",
    "# 3. MaxNet\n",
    "\n",
    "# 1. Numpy\n",
    "# 2. Pandas\n",
    "# 3. Pillow\n",
    "# 4. OpenCV\n",
    "# 5. Scikit Learn\n",
    "\n",
    "# 1. Plotly\n",
    "# 2. matplotlib\n",
    "# 3. seaborn\n",
    "\n",
    "# 1. D3.js\n",
    "\n",
    "# 1. NLTK"
   ]
  },
  {
   "cell_type": "markdown",
   "id": "5ce68fef",
   "metadata": {},
   "source": [
    "<h4><code>Importing Library<code></h4>\n",
    "    \n",
    "```python\n",
    "    \n",
    "for i in range(10):\n",
    "    print(i)\n",
    "print(\"This is For Loop\")\n",
    "```"
   ]
  },
  {
   "cell_type": "code",
   "execution_count": 3,
   "id": "71243fd0",
   "metadata": {},
   "outputs": [],
   "source": [
    "# import tensorflow.compat.v1 as tf\n",
    "\n",
    "#This section for model\n",
    "import tensorflow as tf\n",
    "#This section is algebric analysis\n",
    "import numpy as np\n",
    "import seaborn as sns\n",
    "import pandas as pd\n",
    "#This section for visulization\n",
    "import matplotlib.pyplot as plt\n",
    "%matplotlib inline\n",
    "\n",
    "import warnings\n",
    "warnings.filterwarnings('ignore')"
   ]
  },
  {
   "cell_type": "code",
   "execution_count": 4,
   "id": "1a0337da",
   "metadata": {},
   "outputs": [],
   "source": [
    "# help(warnings.filterwarnings)"
   ]
  },
  {
   "cell_type": "code",
   "execution_count": 5,
   "id": "7c357583",
   "metadata": {},
   "outputs": [],
   "source": [
    "# value = dict({\"product_price1\" : 10,\n",
    "#         \"product_price2\" : 100})"
   ]
  },
  {
   "cell_type": "code",
   "execution_count": 6,
   "id": "178003cb",
   "metadata": {},
   "outputs": [],
   "source": [
    "# 1. Random: import random as rnd\n",
    "# 2. Numpy: import numpy.random as npr\n",
    "# 3. Tensorflow: import tensorflow.random"
   ]
  },
  {
   "cell_type": "code",
   "execution_count": 7,
   "id": "dd9ccde6",
   "metadata": {},
   "outputs": [],
   "source": [
    "class NeuralNetwork:\n",
    "    def __init__(self,layers):\n",
    "        self.layers=layers\n",
    "        self.L=len(layers)\n",
    "        \n",
    "        self.number_feature = layers[0]\n",
    "        self.number_class = layers[-1]\n",
    "        \n",
    "        self.W = {}\n",
    "        self.b = {}\n",
    "        \n",
    "        self.dw = {}\n",
    "        self.db = {}\n",
    "        \n",
    "        self.setup()\n",
    "        \n",
    "    def setup(self):\n",
    "        for i in range(1,self.L):\n",
    "            \n",
    "            self.W[i] = tf.Variable(tf.random.normal(shape = (self.layers[i],self.layers[i-1])))\n",
    "            self.b[i] = tf.Variable(tf.random.normal(shape = (self.layers[i],1)))"
   ]
  },
  {
   "cell_type": "code",
   "execution_count": 8,
   "id": "9939dd40",
   "metadata": {},
   "outputs": [],
   "source": [
    "# 1. dtype=\"float32\"\n",
    "# 2. dtype=np.float32\n",
    "# 3. dtype=tf.float32\n",
    "# 4. dtype=torch.float32"
   ]
  },
  {
   "cell_type": "code",
   "execution_count": 9,
   "id": "65b20239",
   "metadata": {},
   "outputs": [],
   "source": [
    "# Forward Propagation\n",
    "\n",
    "class NeuralNetwork(NeuralNetwork):\n",
    "    def forwardPass(self,A):\n",
    "        A = tf.convert_to_tensor(A,dtype=float32)\n",
    "        \n",
    "        for i in range(1,self.L):\n",
    "            Z = tf.matmul(A,tf.transpose(self.W[i])) + tf.transpose(self.b[i])\n",
    "            \n",
    "            if i!=self.L-1:\n",
    "                A =tf.nn.relu(Z)\n",
    "            else:\n",
    "                A = Z\n",
    "        return A"
   ]
  },
  {
   "cell_type": "code",
   "execution_count": 10,
   "id": "0bbfe939",
   "metadata": {},
   "outputs": [],
   "source": [
    "#We will use this section for computing loss and Upgrading the previous parameters\n",
    "class NeuralNetwork(NeuralNetwork):\n",
    "    def compute_loss(self,A,Y):\n",
    "        return tf.reduce_mean(tf.nn.softmax_cross_entropy_with_logits(Y,A))\n",
    "    def upgrade_parameters(self,lr):\n",
    "        for j in range(1,self.L):\n",
    "            self.W[j].assing_sub(lr*self.dw[j])\n",
    "            self.b[j].assing_sub(lr*self.db[j])"
   ]
  },
  {
   "cell_type": "code",
   "execution_count": 11,
   "id": "deeffec2",
   "metadata": {},
   "outputs": [
    {
     "data": {
      "text/plain": [
       "0"
      ]
     },
     "execution_count": 11,
     "metadata": {},
     "output_type": "execute_result"
    }
   ],
   "source": [
    "# 0 index --> cats\n",
    "# 1 index --> dogs\n",
    "\n",
    "np.argmax([0.12,0.08])"
   ]
  },
  {
   "cell_type": "code",
   "execution_count": 12,
   "id": "d1d82eee",
   "metadata": {},
   "outputs": [],
   "source": [
    "class NeuralNetwork(NeuralNetwork):\n",
    "    def predict(self,x):\n",
    "        A = self.forwardPass(x)\n",
    "        return tf.argmax(tf.nn.softmax(A),axis=1)\n",
    "    \n",
    "    def info(self):\n",
    "        num_param = 0\n",
    "        for i in range(1,self.L):\n",
    "            num_params += self.W[i].shape[0] * self.W[i].shape[1]\n",
    "            num_params += self.b[i].shape[0]\n",
    "        \n",
    "        print('Number of feature: {}'.format(self.number_feature))\n",
    "        print(\"Total Number of Class is: {}\".format(self.number_class))\n",
    "        \n",
    "        print(\"Hidden Layer Information is: \")\n",
    "        for j in range(1,self.L-1):\n",
    "            print(\"layer: {}, Units: {}\".format(i,self.layers[j]))\n",
    "        \n",
    "        print(\"Total Number of parameters : {}\".format(num_params))"
   ]
  },
  {
   "cell_type": "code",
   "execution_count": null,
   "id": "2aa2ffc7",
   "metadata": {},
   "outputs": [],
   "source": [
    "# Training Start\n",
    "\n",
    "class NeuralNetwork(NeuralNetwork):\n",
    "    def train(sel,x_train,x_test,y_train,y_test,epochs,step_per_epochs,batch_size,lr):\n",
    "        history = {\"val_loss\":[],\n",
    "                   'train_loss':[],\n",
    "                   'val_acc':[]\n",
    "                  }"
   ]
  }
 ],
 "metadata": {
  "kernelspec": {
   "display_name": "Python 3 (ipykernel)",
   "language": "python",
   "name": "python3"
  },
  "language_info": {
   "codemirror_mode": {
    "name": "ipython",
    "version": 3
   },
   "file_extension": ".py",
   "mimetype": "text/x-python",
   "name": "python",
   "nbconvert_exporter": "python",
   "pygments_lexer": "ipython3",
   "version": "3.9.13"
  }
 },
 "nbformat": 4,
 "nbformat_minor": 5
}
