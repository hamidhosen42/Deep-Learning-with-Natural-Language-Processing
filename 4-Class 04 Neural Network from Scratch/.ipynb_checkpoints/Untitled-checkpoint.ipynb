{
 "cells": [
  {
   "cell_type": "code",
   "execution_count": 1,
   "id": "3596978b",
   "metadata": {},
   "outputs": [],
   "source": [
    "1. Input Layer - CNN(Convolutional Neural Network) / Dense Layer / Convuled Layer\n",
    "    1. ReLU layer\n",
    "    2. Poling Layer\n",
    "    3. Upsampling\n",
    "    \n",
    "        1. batcNormalization\n",
    "        2. Dropout Layer\n",
    "\n",
    "2. Hidden Layer - NN(neural networks)\n",
    "3. Output Layer - FCNN(Fully connected neural networks)"
   ]
  },
  {
   "cell_type": "code",
   "execution_count": null,
   "id": "bf4c08eb",
   "metadata": {},
   "outputs": [],
   "source": [
    "# 1. Tensorflow\n",
    "# 2. Pytroch\n",
    "# 3. MaxNet\n",
    "\n",
    "# 1. Numpy\n",
    "# 2. Pandas\n",
    "# 3. Pillow\n",
    "# 4. OpenCV\n",
    "# 5. Scikit Learn\n",
    "\n",
    "# 1. Plotly\n",
    "# 2. matplotlib\n",
    "# 3. seaborn\n",
    "\n",
    "# 1. D3.js\n",
    "\n",
    "# 1. NLTK"
   ]
  },
  {
   "cell_type": "code",
   "execution_count": null,
   "id": "2ae2eb70",
   "metadata": {},
   "outputs": [],
   "source": []
  }
 ],
 "metadata": {
  "kernelspec": {
   "display_name": "Python 3 (ipykernel)",
   "language": "python",
   "name": "python3"
  },
  "language_info": {
   "codemirror_mode": {
    "name": "ipython",
    "version": 3
   },
   "file_extension": ".py",
   "mimetype": "text/x-python",
   "name": "python",
   "nbconvert_exporter": "python",
   "pygments_lexer": "ipython3",
   "version": "3.9.13"
  }
 },
 "nbformat": 4,
 "nbformat_minor": 5
}
